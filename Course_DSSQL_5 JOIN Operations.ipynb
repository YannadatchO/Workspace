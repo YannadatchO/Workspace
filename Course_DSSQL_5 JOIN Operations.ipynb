{
 "cells": [
  {
   "cell_type": "markdown",
   "metadata": {},
   "source": [
    "# Hands-on Lab 8: JOIN Operations\n",
    "\n",
    "The practice problems for this Lab will provide hands on experience with the different kinds of join operations that we learned in this Module. We will be using the same HR Database that we used in the previous module.\n",
    "\n",
    "## IMPORTANT: \n",
    "This lab assumes that you have already created and populated the tables in the sample HR database schema illustrated below in your instance of Db2 on IBM Cloud. If you have not done this yet, please complete the lab in the previous module before you start this one.\n",
    "\n",
    "## Objectives\n",
    "After completing this lab you will be able to:\n",
    "\n",
    " Use join operations on the Db2 database instance\n",
    "Use SQL editor to run and check queries"
   ]
  },
  {
   "cell_type": "code",
   "execution_count": 1,
   "metadata": {},
   "outputs": [],
   "source": [
    "%load_ext sql"
   ]
  },
  {
   "cell_type": "code",
   "execution_count": 2,
   "metadata": {},
   "outputs": [
    {
     "name": "stdout",
     "output_type": "stream",
     "text": [
      "DB2/LINUXX8664\n"
     ]
    }
   ],
   "source": [
    "# Remember the connection string is of the format:\n",
    "# %sql ibm_db_sa://my-username:my-password@my-hostname:my-port/my-db-name\n",
    "# Enter the connection string for your Db2 on Cloud database instance below\n",
    "# i.e. copy after db2:// from the URI string in Service Credentials of your Db2 instance. Remove the double quotes at the end.\n",
    "%sql ibm_db_sa://vcm60146:jfkx97p4v%2Bl255bk@dashdb-txn-sbox-yp-dal09-04.services.dal.bluemix.net:50000/BLUDB"
   ]
  },
  {
   "cell_type": "markdown",
   "metadata": {},
   "source": [
    "## Sample HR DATABASE"
   ]
  },
  {
   "cell_type": "code",
   "execution_count": 3,
   "metadata": {},
   "outputs": [
    {
     "name": "stdout",
     "output_type": "stream",
     "text": [
      " * ibm_db_sa://vcm60146:***@dashdb-txn-sbox-yp-dal09-04.services.dal.bluemix.net:50000/BLUDB\n",
      "Done.\n"
     ]
    },
    {
     "data": {
      "text/html": [
       "<table>\n",
       "    <tr>\n",
       "        <th>emp_id</th>\n",
       "        <th>f_name</th>\n",
       "        <th>l_name</th>\n",
       "        <th>ssn</th>\n",
       "        <th>b_date</th>\n",
       "        <th>sex</th>\n",
       "        <th>address</th>\n",
       "        <th>job_id</th>\n",
       "        <th>salary</th>\n",
       "        <th>manager_id</th>\n",
       "        <th>dep_id</th>\n",
       "    </tr>\n",
       "    <tr>\n",
       "        <td>E1001    </td>\n",
       "        <td>John</td>\n",
       "        <td>Thomas</td>\n",
       "        <td>123456   </td>\n",
       "        <td>1976-01-09</td>\n",
       "        <td>M</td>\n",
       "        <td>5631 Rice, OakPark,IL</td>\n",
       "        <td>100      </td>\n",
       "        <td>100000.00</td>\n",
       "        <td>30001    </td>\n",
       "        <td>2        </td>\n",
       "    </tr>\n",
       "    <tr>\n",
       "        <td>E1002    </td>\n",
       "        <td>Alice</td>\n",
       "        <td>James</td>\n",
       "        <td>123457   </td>\n",
       "        <td>1972-07-31</td>\n",
       "        <td>F</td>\n",
       "        <td>980 Berry ln, Elgin,IL</td>\n",
       "        <td>200      </td>\n",
       "        <td>80000.00</td>\n",
       "        <td>30002    </td>\n",
       "        <td>5        </td>\n",
       "    </tr>\n",
       "    <tr>\n",
       "        <td>E1003    </td>\n",
       "        <td>Steve</td>\n",
       "        <td>Wells</td>\n",
       "        <td>123458   </td>\n",
       "        <td>1980-08-10</td>\n",
       "        <td>M</td>\n",
       "        <td>291 Springs, Gary,IL</td>\n",
       "        <td>300      </td>\n",
       "        <td>50000.00</td>\n",
       "        <td>30002    </td>\n",
       "        <td>5        </td>\n",
       "    </tr>\n",
       "    <tr>\n",
       "        <td>E1004    </td>\n",
       "        <td>Santosh</td>\n",
       "        <td>Kumar</td>\n",
       "        <td>123459   </td>\n",
       "        <td>1985-07-20</td>\n",
       "        <td>M</td>\n",
       "        <td>511 Aurora Av, Aurora,IL</td>\n",
       "        <td>400      </td>\n",
       "        <td>60000.00</td>\n",
       "        <td>30004    </td>\n",
       "        <td>5        </td>\n",
       "    </tr>\n",
       "    <tr>\n",
       "        <td>E1005    </td>\n",
       "        <td>Ahmed</td>\n",
       "        <td>Hussain</td>\n",
       "        <td>123410   </td>\n",
       "        <td>1981-01-04</td>\n",
       "        <td>M</td>\n",
       "        <td>216 Oak Tree, Geneva,IL</td>\n",
       "        <td>500      </td>\n",
       "        <td>70000.00</td>\n",
       "        <td>30001    </td>\n",
       "        <td>2        </td>\n",
       "    </tr>\n",
       "</table>"
      ],
      "text/plain": [
       "[('E1001    ', 'John', 'Thomas', '123456   ', datetime.date(1976, 1, 9), 'M', '5631 Rice, OakPark,IL', '100      ', Decimal('100000.00'), '30001    ', '2        '),\n",
       " ('E1002    ', 'Alice', 'James', '123457   ', datetime.date(1972, 7, 31), 'F', '980 Berry ln, Elgin,IL', '200      ', Decimal('80000.00'), '30002    ', '5        '),\n",
       " ('E1003    ', 'Steve', 'Wells', '123458   ', datetime.date(1980, 8, 10), 'M', '291 Springs, Gary,IL', '300      ', Decimal('50000.00'), '30002    ', '5        '),\n",
       " ('E1004    ', 'Santosh', 'Kumar', '123459   ', datetime.date(1985, 7, 20), 'M', '511 Aurora Av, Aurora,IL', '400      ', Decimal('60000.00'), '30004    ', '5        '),\n",
       " ('E1005    ', 'Ahmed', 'Hussain', '123410   ', datetime.date(1981, 1, 4), 'M', '216 Oak Tree, Geneva,IL', '500      ', Decimal('70000.00'), '30001    ', '2        ')]"
      ]
     },
     "execution_count": 3,
     "metadata": {},
     "output_type": "execute_result"
    }
   ],
   "source": [
    "%sql select * from employees limit 5;"
   ]
  },
  {
   "cell_type": "code",
   "execution_count": 6,
   "metadata": {},
   "outputs": [
    {
     "name": "stdout",
     "output_type": "stream",
     "text": [
      " * ibm_db_sa://vcm60146:***@dashdb-txn-sbox-yp-dal09-04.services.dal.bluemix.net:50000/BLUDB\n",
      "Done.\n"
     ]
    },
    {
     "data": {
      "text/html": [
       "<table>\n",
       "    <tr>\n",
       "        <th>empl_id</th>\n",
       "        <th>start_date</th>\n",
       "        <th>jobs_id</th>\n",
       "        <th>dept_id</th>\n",
       "    </tr>\n",
       "    <tr>\n",
       "        <td>E1001    </td>\n",
       "        <td>2000-08-01</td>\n",
       "        <td>100      </td>\n",
       "        <td>2        </td>\n",
       "    </tr>\n",
       "    <tr>\n",
       "        <td>E1002    </td>\n",
       "        <td>2001-08-01</td>\n",
       "        <td>200      </td>\n",
       "        <td>5        </td>\n",
       "    </tr>\n",
       "    <tr>\n",
       "        <td>E1003    </td>\n",
       "        <td>2001-08-16</td>\n",
       "        <td>300      </td>\n",
       "        <td>5        </td>\n",
       "    </tr>\n",
       "    <tr>\n",
       "        <td>E1004    </td>\n",
       "        <td>2000-08-16</td>\n",
       "        <td>400      </td>\n",
       "        <td>5        </td>\n",
       "    </tr>\n",
       "    <tr>\n",
       "        <td>E1005    </td>\n",
       "        <td>2000-05-30</td>\n",
       "        <td>500      </td>\n",
       "        <td>2        </td>\n",
       "    </tr>\n",
       "</table>"
      ],
      "text/plain": [
       "[('E1001    ', datetime.date(2000, 8, 1), '100      ', '2        '),\n",
       " ('E1002    ', datetime.date(2001, 8, 1), '200      ', '5        '),\n",
       " ('E1003    ', datetime.date(2001, 8, 16), '300      ', '5        '),\n",
       " ('E1004    ', datetime.date(2000, 8, 16), '400      ', '5        '),\n",
       " ('E1005    ', datetime.date(2000, 5, 30), '500      ', '2        ')]"
      ]
     },
     "execution_count": 6,
     "metadata": {},
     "output_type": "execute_result"
    }
   ],
   "source": [
    "%sql select * from job_history limit 5;"
   ]
  },
  {
   "cell_type": "code",
   "execution_count": 8,
   "metadata": {},
   "outputs": [
    {
     "name": "stdout",
     "output_type": "stream",
     "text": [
      " * ibm_db_sa://vcm60146:***@dashdb-txn-sbox-yp-dal09-04.services.dal.bluemix.net:50000/BLUDB\n",
      "Done.\n"
     ]
    },
    {
     "data": {
      "text/html": [
       "<table>\n",
       "    <tr>\n",
       "        <th>job_ident</th>\n",
       "        <th>job_title</th>\n",
       "        <th>min_salary</th>\n",
       "        <th>max_salary</th>\n",
       "    </tr>\n",
       "    <tr>\n",
       "        <td>100      </td>\n",
       "        <td>Sr. Architect</td>\n",
       "        <td>60000.00</td>\n",
       "        <td>100000.00</td>\n",
       "    </tr>\n",
       "    <tr>\n",
       "        <td>200      </td>\n",
       "        <td>Sr. Software Developer</td>\n",
       "        <td>60000.00</td>\n",
       "        <td>80000.00</td>\n",
       "    </tr>\n",
       "    <tr>\n",
       "        <td>220      </td>\n",
       "        <td>Sr. Designer</td>\n",
       "        <td>70000.00</td>\n",
       "        <td>90000.00</td>\n",
       "    </tr>\n",
       "    <tr>\n",
       "        <td>234      </td>\n",
       "        <td>Sr. Designer</td>\n",
       "        <td>70000.00</td>\n",
       "        <td>90000.00</td>\n",
       "    </tr>\n",
       "    <tr>\n",
       "        <td>300      </td>\n",
       "        <td>Jr.Software Developer</td>\n",
       "        <td>40000.00</td>\n",
       "        <td>60000.00</td>\n",
       "    </tr>\n",
       "</table>"
      ],
      "text/plain": [
       "[('100      ', 'Sr. Architect', Decimal('60000.00'), Decimal('100000.00')),\n",
       " ('200      ', 'Sr. Software Developer', Decimal('60000.00'), Decimal('80000.00')),\n",
       " ('220      ', 'Sr. Designer', Decimal('70000.00'), Decimal('90000.00')),\n",
       " ('234      ', 'Sr. Designer', Decimal('70000.00'), Decimal('90000.00')),\n",
       " ('300      ', 'Jr.Software Developer', Decimal('40000.00'), Decimal('60000.00'))]"
      ]
     },
     "execution_count": 8,
     "metadata": {},
     "output_type": "execute_result"
    }
   ],
   "source": [
    "%sql select * from jobs limit 5;"
   ]
  },
  {
   "cell_type": "code",
   "execution_count": 12,
   "metadata": {},
   "outputs": [
    {
     "name": "stdout",
     "output_type": "stream",
     "text": [
      " * ibm_db_sa://vcm60146:***@dashdb-txn-sbox-yp-dal09-04.services.dal.bluemix.net:50000/BLUDB\n",
      "Done.\n"
     ]
    },
    {
     "data": {
      "text/html": [
       "<table>\n",
       "    <tr>\n",
       "        <th>dept_id_dep</th>\n",
       "        <th>dep_name</th>\n",
       "        <th>manager_id</th>\n",
       "        <th>loc_id</th>\n",
       "    </tr>\n",
       "    <tr>\n",
       "        <td>2        </td>\n",
       "        <td>Architect Group</td>\n",
       "        <td>30001    </td>\n",
       "        <td>L0001    </td>\n",
       "    </tr>\n",
       "    <tr>\n",
       "        <td>5        </td>\n",
       "        <td>Software Group</td>\n",
       "        <td>30002    </td>\n",
       "        <td>L0002    </td>\n",
       "    </tr>\n",
       "    <tr>\n",
       "        <td>7        </td>\n",
       "        <td>Design Team</td>\n",
       "        <td>30003    </td>\n",
       "        <td>L0003    </td>\n",
       "    </tr>\n",
       "</table>"
      ],
      "text/plain": [
       "[('2        ', 'Architect Group', '30001    ', 'L0001    '),\n",
       " ('5        ', 'Software Group', '30002    ', 'L0002    '),\n",
       " ('7        ', 'Design Team', '30003    ', 'L0003    ')]"
      ]
     },
     "execution_count": 12,
     "metadata": {},
     "output_type": "execute_result"
    }
   ],
   "source": [
    "%sql select * from departments;"
   ]
  },
  {
   "cell_type": "code",
   "execution_count": 11,
   "metadata": {},
   "outputs": [
    {
     "name": "stdout",
     "output_type": "stream",
     "text": [
      " * ibm_db_sa://vcm60146:***@dashdb-txn-sbox-yp-dal09-04.services.dal.bluemix.net:50000/BLUDB\n",
      "Done.\n"
     ]
    },
    {
     "data": {
      "text/html": [
       "<table>\n",
       "    <tr>\n",
       "        <th>loct_id</th>\n",
       "        <th>dep_id_loc</th>\n",
       "    </tr>\n",
       "    <tr>\n",
       "        <td>L0001    </td>\n",
       "        <td>2        </td>\n",
       "    </tr>\n",
       "    <tr>\n",
       "        <td>L0002    </td>\n",
       "        <td>5        </td>\n",
       "    </tr>\n",
       "    <tr>\n",
       "        <td>L0003    </td>\n",
       "        <td>7        </td>\n",
       "    </tr>\n",
       "</table>"
      ],
      "text/plain": [
       "[('L0001    ', '2        '),\n",
       " ('L0002    ', '5        '),\n",
       " ('L0003    ', '7        ')]"
      ]
     },
     "execution_count": 11,
     "metadata": {},
     "output_type": "execute_result"
    }
   ],
   "source": [
    "%sql select * from locations;"
   ]
  },
  {
   "cell_type": "markdown",
   "metadata": {},
   "source": [
    "### Query 1A: Select the names and job start dates of all employees who work for the department number 5."
   ]
  },
  {
   "cell_type": "code",
   "execution_count": 36,
   "metadata": {},
   "outputs": [
    {
     "name": "stdout",
     "output_type": "stream",
     "text": [
      " * ibm_db_sa://vcm60146:***@dashdb-txn-sbox-yp-dal09-04.services.dal.bluemix.net:50000/BLUDB\n",
      "Done.\n"
     ]
    },
    {
     "data": {
      "text/html": [
       "<table>\n",
       "    <tr>\n",
       "        <th>emp_id</th>\n",
       "        <th>f_name</th>\n",
       "        <th>l_name</th>\n",
       "        <th>start_date</th>\n",
       "        <th>dep_id</th>\n",
       "    </tr>\n",
       "    <tr>\n",
       "        <td>E1002    </td>\n",
       "        <td>Alice</td>\n",
       "        <td>James</td>\n",
       "        <td>2001-08-01</td>\n",
       "        <td>5        </td>\n",
       "    </tr>\n",
       "    <tr>\n",
       "        <td>E1003    </td>\n",
       "        <td>Steve</td>\n",
       "        <td>Wells</td>\n",
       "        <td>2001-08-16</td>\n",
       "        <td>5        </td>\n",
       "    </tr>\n",
       "    <tr>\n",
       "        <td>E1004    </td>\n",
       "        <td>Santosh</td>\n",
       "        <td>Kumar</td>\n",
       "        <td>2000-08-16</td>\n",
       "        <td>5        </td>\n",
       "    </tr>\n",
       "    <tr>\n",
       "        <td>E1010    </td>\n",
       "        <td>Ann</td>\n",
       "        <td>Jacob</td>\n",
       "        <td>2016-08-16</td>\n",
       "        <td>5        </td>\n",
       "    </tr>\n",
       "</table>"
      ],
      "text/plain": [
       "[('E1002    ', 'Alice', 'James', datetime.date(2001, 8, 1), '5        '),\n",
       " ('E1003    ', 'Steve', 'Wells', datetime.date(2001, 8, 16), '5        '),\n",
       " ('E1004    ', 'Santosh', 'Kumar', datetime.date(2000, 8, 16), '5        '),\n",
       " ('E1010    ', 'Ann', 'Jacob', datetime.date(2016, 8, 16), '5        ')]"
      ]
     },
     "execution_count": 36,
     "metadata": {},
     "output_type": "execute_result"
    }
   ],
   "source": [
    "%%sql \n",
    "select E.EMP_ID, E.F_NAME, E.L_NAME ,JH.START_DATE, E.DEP_ID\n",
    "from  EMPLOYEES  E  left join  JOB_HISTORY JH\n",
    "    on E.EMP_ID = JH.EMPL_ID \n",
    "where E.DEP_ID = 5;"
   ]
  },
  {
   "cell_type": "markdown",
   "metadata": {},
   "source": [
    "### Query 1B: Select the names, job start dates, and job titles of all employees who work for the department number 5."
   ]
  },
  {
   "cell_type": "code",
   "execution_count": 67,
   "metadata": {},
   "outputs": [
    {
     "name": "stdout",
     "output_type": "stream",
     "text": [
      " * ibm_db_sa://vcm60146:***@dashdb-txn-sbox-yp-dal09-04.services.dal.bluemix.net:50000/BLUDB\n",
      "Done.\n"
     ]
    },
    {
     "data": {
      "text/html": [
       "<table>\n",
       "    <tr>\n",
       "        <th>emp_id</th>\n",
       "        <th>f_name</th>\n",
       "        <th>l_name</th>\n",
       "        <th>start_date</th>\n",
       "        <th>dep_id</th>\n",
       "        <th>job_title</th>\n",
       "    </tr>\n",
       "    <tr>\n",
       "        <td>E1002    </td>\n",
       "        <td>Alice</td>\n",
       "        <td>James</td>\n",
       "        <td>2001-08-01</td>\n",
       "        <td>5        </td>\n",
       "        <td>Sr. Software Developer</td>\n",
       "    </tr>\n",
       "    <tr>\n",
       "        <td>E1003    </td>\n",
       "        <td>Steve</td>\n",
       "        <td>Wells</td>\n",
       "        <td>2001-08-16</td>\n",
       "        <td>5        </td>\n",
       "        <td>Jr.Software Developer</td>\n",
       "    </tr>\n",
       "    <tr>\n",
       "        <td>E1004    </td>\n",
       "        <td>Santosh</td>\n",
       "        <td>Kumar</td>\n",
       "        <td>2000-08-16</td>\n",
       "        <td>5        </td>\n",
       "        <td>Jr.Software Developer</td>\n",
       "    </tr>\n",
       "    <tr>\n",
       "        <td>E1010    </td>\n",
       "        <td>Ann</td>\n",
       "        <td>Jacob</td>\n",
       "        <td>2016-08-16</td>\n",
       "        <td>5        </td>\n",
       "        <td>Sr. Designer</td>\n",
       "    </tr>\n",
       "</table>"
      ],
      "text/plain": [
       "[('E1002    ', 'Alice', 'James', datetime.date(2001, 8, 1), '5        ', 'Sr. Software Developer'),\n",
       " ('E1003    ', 'Steve', 'Wells', datetime.date(2001, 8, 16), '5        ', 'Jr.Software Developer'),\n",
       " ('E1004    ', 'Santosh', 'Kumar', datetime.date(2000, 8, 16), '5        ', 'Jr.Software Developer'),\n",
       " ('E1010    ', 'Ann', 'Jacob', datetime.date(2016, 8, 16), '5        ', 'Sr. Designer')]"
      ]
     },
     "execution_count": 67,
     "metadata": {},
     "output_type": "execute_result"
    }
   ],
   "source": [
    "%%sql \n",
    "select E.EMP_ID, E.F_NAME, E.L_NAME ,H.START_DATE ,E.DEP_ID ,J.JOB_TITLE\n",
    "from  EMPLOYEES  E  \n",
    "    inner join  JOB_HISTORY H on E.EMP_ID = H.EMPL_ID\n",
    "    inner join  JOBS J on H.JOBS_ID = J.JOB_IDENT\n",
    "where E.DEP_ID = 5;"
   ]
  },
  {
   "cell_type": "markdown",
   "metadata": {},
   "source": [
    "### Query 2A: Perform a Left Outer Join on the EMPLOYEES and DEPARTMENT tables and select employee id, last name, department id and department name for all employees."
   ]
  },
  {
   "cell_type": "code",
   "execution_count": 68,
   "metadata": {},
   "outputs": [
    {
     "name": "stdout",
     "output_type": "stream",
     "text": [
      " * ibm_db_sa://vcm60146:***@dashdb-txn-sbox-yp-dal09-04.services.dal.bluemix.net:50000/BLUDB\n",
      "Done.\n"
     ]
    },
    {
     "data": {
      "text/html": [
       "<table>\n",
       "    <tr>\n",
       "        <th>emp_id</th>\n",
       "        <th>l_name</th>\n",
       "        <th>dep_id</th>\n",
       "        <th>dept_id_dep</th>\n",
       "        <th>dep_name</th>\n",
       "        <th>b_date</th>\n",
       "    </tr>\n",
       "    <tr>\n",
       "        <td>E1001    </td>\n",
       "        <td>Thomas</td>\n",
       "        <td>2        </td>\n",
       "        <td>2        </td>\n",
       "        <td>Architect Group</td>\n",
       "        <td>1976-01-09</td>\n",
       "    </tr>\n",
       "    <tr>\n",
       "        <td>E1006    </td>\n",
       "        <td>Allen</td>\n",
       "        <td>2        </td>\n",
       "        <td>2        </td>\n",
       "        <td>Architect Group</td>\n",
       "        <td>1978-02-06</td>\n",
       "    </tr>\n",
       "    <tr>\n",
       "        <td>E1005    </td>\n",
       "        <td>Hussain</td>\n",
       "        <td>2        </td>\n",
       "        <td>2        </td>\n",
       "        <td>Architect Group</td>\n",
       "        <td>1981-01-04</td>\n",
       "    </tr>\n",
       "    <tr>\n",
       "        <td>E1002    </td>\n",
       "        <td>James</td>\n",
       "        <td>5        </td>\n",
       "        <td>5        </td>\n",
       "        <td>Software Group</td>\n",
       "        <td>1972-07-31</td>\n",
       "    </tr>\n",
       "    <tr>\n",
       "        <td>E1010    </td>\n",
       "        <td>Jacob</td>\n",
       "        <td>5        </td>\n",
       "        <td>5        </td>\n",
       "        <td>Software Group</td>\n",
       "        <td>1982-03-30</td>\n",
       "    </tr>\n",
       "    <tr>\n",
       "        <td>E1004    </td>\n",
       "        <td>Kumar</td>\n",
       "        <td>5        </td>\n",
       "        <td>5        </td>\n",
       "        <td>Software Group</td>\n",
       "        <td>1985-07-20</td>\n",
       "    </tr>\n",
       "    <tr>\n",
       "        <td>E1003    </td>\n",
       "        <td>Wells</td>\n",
       "        <td>5        </td>\n",
       "        <td>5        </td>\n",
       "        <td>Software Group</td>\n",
       "        <td>1980-08-10</td>\n",
       "    </tr>\n",
       "    <tr>\n",
       "        <td>E1007    </td>\n",
       "        <td>Thomas</td>\n",
       "        <td>7        </td>\n",
       "        <td>7        </td>\n",
       "        <td>Design Team</td>\n",
       "        <td>1975-05-05</td>\n",
       "    </tr>\n",
       "    <tr>\n",
       "        <td>E1009    </td>\n",
       "        <td>Jones</td>\n",
       "        <td>7        </td>\n",
       "        <td>7        </td>\n",
       "        <td>Design Team</td>\n",
       "        <td>1990-07-09</td>\n",
       "    </tr>\n",
       "    <tr>\n",
       "        <td>E1008    </td>\n",
       "        <td>Gupta</td>\n",
       "        <td>7        </td>\n",
       "        <td>7        </td>\n",
       "        <td>Design Team</td>\n",
       "        <td>1985-05-06</td>\n",
       "    </tr>\n",
       "</table>"
      ],
      "text/plain": [
       "[('E1001    ', 'Thomas', '2        ', '2        ', 'Architect Group', datetime.date(1976, 1, 9)),\n",
       " ('E1006    ', 'Allen', '2        ', '2        ', 'Architect Group', datetime.date(1978, 2, 6)),\n",
       " ('E1005    ', 'Hussain', '2        ', '2        ', 'Architect Group', datetime.date(1981, 1, 4)),\n",
       " ('E1002    ', 'James', '5        ', '5        ', 'Software Group', datetime.date(1972, 7, 31)),\n",
       " ('E1010    ', 'Jacob', '5        ', '5        ', 'Software Group', datetime.date(1982, 3, 30)),\n",
       " ('E1004    ', 'Kumar', '5        ', '5        ', 'Software Group', datetime.date(1985, 7, 20)),\n",
       " ('E1003    ', 'Wells', '5        ', '5        ', 'Software Group', datetime.date(1980, 8, 10)),\n",
       " ('E1007    ', 'Thomas', '7        ', '7        ', 'Design Team', datetime.date(1975, 5, 5)),\n",
       " ('E1009    ', 'Jones', '7        ', '7        ', 'Design Team', datetime.date(1990, 7, 9)),\n",
       " ('E1008    ', 'Gupta', '7        ', '7        ', 'Design Team', datetime.date(1985, 5, 6))]"
      ]
     },
     "execution_count": 68,
     "metadata": {},
     "output_type": "execute_result"
    }
   ],
   "source": [
    "%%sql \n",
    "select E.EMP_ID, E.L_NAME ,E.DEP_ID, D.DEPT_ID_DEP, D.DEP_NAME, E.B_DATE\n",
    "from EMPLOYEES E \n",
    "left join DEPARTMENTS D on E.DEP_ID = D.DEPT_ID_DEP\n"
   ]
  },
  {
   "cell_type": "markdown",
   "metadata": {},
   "source": [
    "### Query 2B: Re-write the query for 2A to limit the result set to include only the rows for employees born before 1980."
   ]
  },
  {
   "cell_type": "code",
   "execution_count": 69,
   "metadata": {},
   "outputs": [
    {
     "name": "stdout",
     "output_type": "stream",
     "text": [
      " * ibm_db_sa://vcm60146:***@dashdb-txn-sbox-yp-dal09-04.services.dal.bluemix.net:50000/BLUDB\n",
      "Done.\n"
     ]
    },
    {
     "data": {
      "text/html": [
       "<table>\n",
       "    <tr>\n",
       "        <th>emp_id</th>\n",
       "        <th>l_name</th>\n",
       "        <th>dep_id</th>\n",
       "        <th>dept_id_dep</th>\n",
       "        <th>dep_name</th>\n",
       "        <th>b_date</th>\n",
       "    </tr>\n",
       "    <tr>\n",
       "        <td>E1001    </td>\n",
       "        <td>Thomas</td>\n",
       "        <td>2        </td>\n",
       "        <td>2        </td>\n",
       "        <td>Architect Group</td>\n",
       "        <td>1976-01-09</td>\n",
       "    </tr>\n",
       "    <tr>\n",
       "        <td>E1002    </td>\n",
       "        <td>James</td>\n",
       "        <td>5        </td>\n",
       "        <td>5        </td>\n",
       "        <td>Software Group</td>\n",
       "        <td>1972-07-31</td>\n",
       "    </tr>\n",
       "    <tr>\n",
       "        <td>E1006    </td>\n",
       "        <td>Allen</td>\n",
       "        <td>2        </td>\n",
       "        <td>2        </td>\n",
       "        <td>Architect Group</td>\n",
       "        <td>1978-02-06</td>\n",
       "    </tr>\n",
       "    <tr>\n",
       "        <td>E1007    </td>\n",
       "        <td>Thomas</td>\n",
       "        <td>7        </td>\n",
       "        <td>7        </td>\n",
       "        <td>Design Team</td>\n",
       "        <td>1975-05-05</td>\n",
       "    </tr>\n",
       "</table>"
      ],
      "text/plain": [
       "[('E1001    ', 'Thomas', '2        ', '2        ', 'Architect Group', datetime.date(1976, 1, 9)),\n",
       " ('E1002    ', 'James', '5        ', '5        ', 'Software Group', datetime.date(1972, 7, 31)),\n",
       " ('E1006    ', 'Allen', '2        ', '2        ', 'Architect Group', datetime.date(1978, 2, 6)),\n",
       " ('E1007    ', 'Thomas', '7        ', '7        ', 'Design Team', datetime.date(1975, 5, 5))]"
      ]
     },
     "execution_count": 69,
     "metadata": {},
     "output_type": "execute_result"
    }
   ],
   "source": [
    "%%sql \n",
    "select E.EMP_ID, E.L_NAME ,E.DEP_ID, D.DEPT_ID_DEP, D.DEP_NAME, E.B_DATE\n",
    "from EMPLOYEES E \n",
    "inner join DEPARTMENTS D on E.DEP_ID = D.DEPT_ID_DEP\n",
    "where YEAR(E.B_DATE) < 1980;"
   ]
  },
  {
   "cell_type": "markdown",
   "metadata": {},
   "source": [
    "### Query 2C: Re-write the query for 2A to have the result set include all the employees but department names for only the employees who were born before 1980"
   ]
  },
  {
   "cell_type": "code",
   "execution_count": 70,
   "metadata": {},
   "outputs": [
    {
     "name": "stdout",
     "output_type": "stream",
     "text": [
      " * ibm_db_sa://vcm60146:***@dashdb-txn-sbox-yp-dal09-04.services.dal.bluemix.net:50000/BLUDB\n",
      "Done.\n"
     ]
    },
    {
     "data": {
      "text/html": [
       "<table>\n",
       "    <tr>\n",
       "        <th>emp_id</th>\n",
       "        <th>l_name</th>\n",
       "        <th>dep_id</th>\n",
       "        <th>dept_id_dep</th>\n",
       "        <th>dep_name</th>\n",
       "        <th>b_date</th>\n",
       "    </tr>\n",
       "    <tr>\n",
       "        <td>E1001    </td>\n",
       "        <td>Thomas</td>\n",
       "        <td>2        </td>\n",
       "        <td>2        </td>\n",
       "        <td>Architect Group</td>\n",
       "        <td>1976-01-09</td>\n",
       "    </tr>\n",
       "    <tr>\n",
       "        <td>E1002    </td>\n",
       "        <td>James</td>\n",
       "        <td>5        </td>\n",
       "        <td>5        </td>\n",
       "        <td>Software Group</td>\n",
       "        <td>1972-07-31</td>\n",
       "    </tr>\n",
       "    <tr>\n",
       "        <td>E1003    </td>\n",
       "        <td>Wells</td>\n",
       "        <td>5        </td>\n",
       "        <td>None</td>\n",
       "        <td>None</td>\n",
       "        <td>1980-08-10</td>\n",
       "    </tr>\n",
       "    <tr>\n",
       "        <td>E1004    </td>\n",
       "        <td>Kumar</td>\n",
       "        <td>5        </td>\n",
       "        <td>None</td>\n",
       "        <td>None</td>\n",
       "        <td>1985-07-20</td>\n",
       "    </tr>\n",
       "    <tr>\n",
       "        <td>E1005    </td>\n",
       "        <td>Hussain</td>\n",
       "        <td>2        </td>\n",
       "        <td>None</td>\n",
       "        <td>None</td>\n",
       "        <td>1981-01-04</td>\n",
       "    </tr>\n",
       "    <tr>\n",
       "        <td>E1006    </td>\n",
       "        <td>Allen</td>\n",
       "        <td>2        </td>\n",
       "        <td>2        </td>\n",
       "        <td>Architect Group</td>\n",
       "        <td>1978-02-06</td>\n",
       "    </tr>\n",
       "    <tr>\n",
       "        <td>E1007    </td>\n",
       "        <td>Thomas</td>\n",
       "        <td>7        </td>\n",
       "        <td>7        </td>\n",
       "        <td>Design Team</td>\n",
       "        <td>1975-05-05</td>\n",
       "    </tr>\n",
       "    <tr>\n",
       "        <td>E1008    </td>\n",
       "        <td>Gupta</td>\n",
       "        <td>7        </td>\n",
       "        <td>None</td>\n",
       "        <td>None</td>\n",
       "        <td>1985-05-06</td>\n",
       "    </tr>\n",
       "    <tr>\n",
       "        <td>E1009    </td>\n",
       "        <td>Jones</td>\n",
       "        <td>7        </td>\n",
       "        <td>None</td>\n",
       "        <td>None</td>\n",
       "        <td>1990-07-09</td>\n",
       "    </tr>\n",
       "    <tr>\n",
       "        <td>E1010    </td>\n",
       "        <td>Jacob</td>\n",
       "        <td>5        </td>\n",
       "        <td>None</td>\n",
       "        <td>None</td>\n",
       "        <td>1982-03-30</td>\n",
       "    </tr>\n",
       "</table>"
      ],
      "text/plain": [
       "[('E1001    ', 'Thomas', '2        ', '2        ', 'Architect Group', datetime.date(1976, 1, 9)),\n",
       " ('E1002    ', 'James', '5        ', '5        ', 'Software Group', datetime.date(1972, 7, 31)),\n",
       " ('E1003    ', 'Wells', '5        ', None, None, datetime.date(1980, 8, 10)),\n",
       " ('E1004    ', 'Kumar', '5        ', None, None, datetime.date(1985, 7, 20)),\n",
       " ('E1005    ', 'Hussain', '2        ', None, None, datetime.date(1981, 1, 4)),\n",
       " ('E1006    ', 'Allen', '2        ', '2        ', 'Architect Group', datetime.date(1978, 2, 6)),\n",
       " ('E1007    ', 'Thomas', '7        ', '7        ', 'Design Team', datetime.date(1975, 5, 5)),\n",
       " ('E1008    ', 'Gupta', '7        ', None, None, datetime.date(1985, 5, 6)),\n",
       " ('E1009    ', 'Jones', '7        ', None, None, datetime.date(1990, 7, 9)),\n",
       " ('E1010    ', 'Jacob', '5        ', None, None, datetime.date(1982, 3, 30))]"
      ]
     },
     "execution_count": 70,
     "metadata": {},
     "output_type": "execute_result"
    }
   ],
   "source": [
    "%%sql \n",
    "select E.EMP_ID, E.L_NAME ,E.DEP_ID, D.DEPT_ID_DEP, D.DEP_NAME,E.B_DATE\n",
    "from EMPLOYEES E \n",
    "left join DEPARTMENTS D on E.DEP_ID = D.DEPT_ID_DEP and YEAR(E.B_DATE) < 1980;"
   ]
  },
  {
   "cell_type": "markdown",
   "metadata": {},
   "source": [
    "### Query 3A: Perform a Full Join on the EMPLOYEES and DEPARTMENT tables and select the First name, Last name and Department name of all employees."
   ]
  },
  {
   "cell_type": "code",
   "execution_count": 71,
   "metadata": {},
   "outputs": [
    {
     "name": "stdout",
     "output_type": "stream",
     "text": [
      " * ibm_db_sa://vcm60146:***@dashdb-txn-sbox-yp-dal09-04.services.dal.bluemix.net:50000/BLUDB\n",
      "Done.\n"
     ]
    },
    {
     "data": {
      "text/html": [
       "<table>\n",
       "    <tr>\n",
       "        <th>emp_id</th>\n",
       "        <th>f_name</th>\n",
       "        <th>l_name</th>\n",
       "        <th>dep_id</th>\n",
       "        <th>dep_name</th>\n",
       "    </tr>\n",
       "    <tr>\n",
       "        <td>E1001    </td>\n",
       "        <td>John</td>\n",
       "        <td>Thomas</td>\n",
       "        <td>2        </td>\n",
       "        <td>Architect Group</td>\n",
       "    </tr>\n",
       "    <tr>\n",
       "        <td>E1002    </td>\n",
       "        <td>Alice</td>\n",
       "        <td>James</td>\n",
       "        <td>5        </td>\n",
       "        <td>Software Group</td>\n",
       "    </tr>\n",
       "    <tr>\n",
       "        <td>E1003    </td>\n",
       "        <td>Steve</td>\n",
       "        <td>Wells</td>\n",
       "        <td>5        </td>\n",
       "        <td>Software Group</td>\n",
       "    </tr>\n",
       "    <tr>\n",
       "        <td>E1004    </td>\n",
       "        <td>Santosh</td>\n",
       "        <td>Kumar</td>\n",
       "        <td>5        </td>\n",
       "        <td>Software Group</td>\n",
       "    </tr>\n",
       "    <tr>\n",
       "        <td>E1005    </td>\n",
       "        <td>Ahmed</td>\n",
       "        <td>Hussain</td>\n",
       "        <td>2        </td>\n",
       "        <td>Architect Group</td>\n",
       "    </tr>\n",
       "    <tr>\n",
       "        <td>E1006    </td>\n",
       "        <td>Nancy</td>\n",
       "        <td>Allen</td>\n",
       "        <td>2        </td>\n",
       "        <td>Architect Group</td>\n",
       "    </tr>\n",
       "    <tr>\n",
       "        <td>E1007    </td>\n",
       "        <td>Mary</td>\n",
       "        <td>Thomas</td>\n",
       "        <td>7        </td>\n",
       "        <td>Design Team</td>\n",
       "    </tr>\n",
       "    <tr>\n",
       "        <td>E1008    </td>\n",
       "        <td>Bharath</td>\n",
       "        <td>Gupta</td>\n",
       "        <td>7        </td>\n",
       "        <td>Design Team</td>\n",
       "    </tr>\n",
       "    <tr>\n",
       "        <td>E1009    </td>\n",
       "        <td>Andrea</td>\n",
       "        <td>Jones</td>\n",
       "        <td>7        </td>\n",
       "        <td>Design Team</td>\n",
       "    </tr>\n",
       "    <tr>\n",
       "        <td>E1010    </td>\n",
       "        <td>Ann</td>\n",
       "        <td>Jacob</td>\n",
       "        <td>5        </td>\n",
       "        <td>Software Group</td>\n",
       "    </tr>\n",
       "</table>"
      ],
      "text/plain": [
       "[('E1001    ', 'John', 'Thomas', '2        ', 'Architect Group'),\n",
       " ('E1002    ', 'Alice', 'James', '5        ', 'Software Group'),\n",
       " ('E1003    ', 'Steve', 'Wells', '5        ', 'Software Group'),\n",
       " ('E1004    ', 'Santosh', 'Kumar', '5        ', 'Software Group'),\n",
       " ('E1005    ', 'Ahmed', 'Hussain', '2        ', 'Architect Group'),\n",
       " ('E1006    ', 'Nancy', 'Allen', '2        ', 'Architect Group'),\n",
       " ('E1007    ', 'Mary', 'Thomas', '7        ', 'Design Team'),\n",
       " ('E1008    ', 'Bharath', 'Gupta', '7        ', 'Design Team'),\n",
       " ('E1009    ', 'Andrea', 'Jones', '7        ', 'Design Team'),\n",
       " ('E1010    ', 'Ann', 'Jacob', '5        ', 'Software Group')]"
      ]
     },
     "execution_count": 71,
     "metadata": {},
     "output_type": "execute_result"
    }
   ],
   "source": [
    "%%sql \n",
    "select E.EMP_ID, E.F_NAME ,E.L_NAME ,E.DEP_ID ,D.DEP_NAME \n",
    "from EMPLOYEES E \n",
    "full join DEPARTMENTS D on E.DEP_ID = D.DEPT_ID_DEP"
   ]
  },
  {
   "cell_type": "markdown",
   "metadata": {},
   "source": [
    "### Query 3B: Re-write Query 3A to have the result set include all employee names but department id and department names only for male employees."
   ]
  },
  {
   "cell_type": "code",
   "execution_count": 72,
   "metadata": {},
   "outputs": [
    {
     "name": "stdout",
     "output_type": "stream",
     "text": [
      " * ibm_db_sa://vcm60146:***@dashdb-txn-sbox-yp-dal09-04.services.dal.bluemix.net:50000/BLUDB\n",
      "Done.\n"
     ]
    },
    {
     "data": {
      "text/html": [
       "<table>\n",
       "    <tr>\n",
       "        <th>emp_id</th>\n",
       "        <th>f_name</th>\n",
       "        <th>l_name</th>\n",
       "        <th>dep_id</th>\n",
       "        <th>dep_name</th>\n",
       "        <th>sex</th>\n",
       "    </tr>\n",
       "    <tr>\n",
       "        <td>E1001    </td>\n",
       "        <td>John</td>\n",
       "        <td>Thomas</td>\n",
       "        <td>2        </td>\n",
       "        <td>Architect Group</td>\n",
       "        <td>M</td>\n",
       "    </tr>\n",
       "    <tr>\n",
       "        <td>E1003    </td>\n",
       "        <td>Steve</td>\n",
       "        <td>Wells</td>\n",
       "        <td>5        </td>\n",
       "        <td>Software Group</td>\n",
       "        <td>M</td>\n",
       "    </tr>\n",
       "    <tr>\n",
       "        <td>E1004    </td>\n",
       "        <td>Santosh</td>\n",
       "        <td>Kumar</td>\n",
       "        <td>5        </td>\n",
       "        <td>Software Group</td>\n",
       "        <td>M</td>\n",
       "    </tr>\n",
       "    <tr>\n",
       "        <td>E1005    </td>\n",
       "        <td>Ahmed</td>\n",
       "        <td>Hussain</td>\n",
       "        <td>2        </td>\n",
       "        <td>Architect Group</td>\n",
       "        <td>M</td>\n",
       "    </tr>\n",
       "    <tr>\n",
       "        <td>E1008    </td>\n",
       "        <td>Bharath</td>\n",
       "        <td>Gupta</td>\n",
       "        <td>7        </td>\n",
       "        <td>Design Team</td>\n",
       "        <td>M</td>\n",
       "    </tr>\n",
       "    <tr>\n",
       "        <td>E1002    </td>\n",
       "        <td>Alice</td>\n",
       "        <td>James</td>\n",
       "        <td>5        </td>\n",
       "        <td>None</td>\n",
       "        <td>F</td>\n",
       "    </tr>\n",
       "    <tr>\n",
       "        <td>E1006    </td>\n",
       "        <td>Nancy</td>\n",
       "        <td>Allen</td>\n",
       "        <td>2        </td>\n",
       "        <td>None</td>\n",
       "        <td>F</td>\n",
       "    </tr>\n",
       "    <tr>\n",
       "        <td>E1007    </td>\n",
       "        <td>Mary</td>\n",
       "        <td>Thomas</td>\n",
       "        <td>7        </td>\n",
       "        <td>None</td>\n",
       "        <td>F</td>\n",
       "    </tr>\n",
       "    <tr>\n",
       "        <td>E1009    </td>\n",
       "        <td>Andrea</td>\n",
       "        <td>Jones</td>\n",
       "        <td>7        </td>\n",
       "        <td>None</td>\n",
       "        <td>F</td>\n",
       "    </tr>\n",
       "    <tr>\n",
       "        <td>E1010    </td>\n",
       "        <td>Ann</td>\n",
       "        <td>Jacob</td>\n",
       "        <td>5        </td>\n",
       "        <td>None</td>\n",
       "        <td>F</td>\n",
       "    </tr>\n",
       "</table>"
      ],
      "text/plain": [
       "[('E1001    ', 'John', 'Thomas', '2        ', 'Architect Group', 'M'),\n",
       " ('E1003    ', 'Steve', 'Wells', '5        ', 'Software Group', 'M'),\n",
       " ('E1004    ', 'Santosh', 'Kumar', '5        ', 'Software Group', 'M'),\n",
       " ('E1005    ', 'Ahmed', 'Hussain', '2        ', 'Architect Group', 'M'),\n",
       " ('E1008    ', 'Bharath', 'Gupta', '7        ', 'Design Team', 'M'),\n",
       " ('E1002    ', 'Alice', 'James', '5        ', None, 'F'),\n",
       " ('E1006    ', 'Nancy', 'Allen', '2        ', None, 'F'),\n",
       " ('E1007    ', 'Mary', 'Thomas', '7        ', None, 'F'),\n",
       " ('E1009    ', 'Andrea', 'Jones', '7        ', None, 'F'),\n",
       " ('E1010    ', 'Ann', 'Jacob', '5        ', None, 'F')]"
      ]
     },
     "execution_count": 72,
     "metadata": {},
     "output_type": "execute_result"
    }
   ],
   "source": [
    "%%sql \n",
    "select E.EMP_ID, E.F_NAME ,E.L_NAME ,E.DEP_ID ,D.DEP_NAME, E.SEX\n",
    "from EMPLOYEES E \n",
    "full join DEPARTMENTS D on E.DEP_ID = D.DEPT_ID_DEP and E.SEX ='M';"
   ]
  },
  {
   "cell_type": "code",
   "execution_count": null,
   "metadata": {},
   "outputs": [],
   "source": []
  }
 ],
 "metadata": {
  "kernelspec": {
   "display_name": "Python 3",
   "language": "python",
   "name": "python3"
  },
  "language_info": {
   "codemirror_mode": {
    "name": "ipython",
    "version": 3
   },
   "file_extension": ".py",
   "mimetype": "text/x-python",
   "name": "python",
   "nbconvert_exporter": "python",
   "pygments_lexer": "ipython3",
   "version": "3.7.6"
  }
 },
 "nbformat": 4,
 "nbformat_minor": 4
}
